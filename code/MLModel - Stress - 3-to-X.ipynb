{
 "cells": [
  {
   "cell_type": "code",
   "execution_count": 1,
   "metadata": {},
   "outputs": [],
   "source": [
    "import pandas as pd\n",
    "import numpy as np\n",
    "from sklearn.tree import DecisionTreeClassifier\n",
    "from sklearn.linear_model import LogisticRegression\n",
    "from sklearn.metrics import classification_report\n",
    "from sklearn.preprocessing import StandardScaler\n",
    "from imblearn.under_sampling import RandomUnderSampler, NeighbourhoodCleaningRule\n",
    "import seaborn as sns\n",
    "import pickle\n",
    "from sklearn.ensemble import RandomForestClassifier"
   ]
  },
  {
   "cell_type": "code",
   "execution_count": 11,
   "metadata": {},
   "outputs": [],
   "source": [
    "variable_to_predict = 'stress'"
   ]
  },
  {
   "attachments": {},
   "cell_type": "markdown",
   "metadata": {},
   "source": [
    "## Configuration"
   ]
  },
  {
   "cell_type": "code",
   "execution_count": 27,
   "metadata": {},
   "outputs": [],
   "source": [
    "datasets = {\n",
    "    'StudentLife' : {\n",
    "        'path' : 'data/processed/sl_processed_data.csv',\n",
    "        'ws' : 2,\n",
    "        'train_weeks' : [13, 18],\n",
    "        'test_weeks' : [19, 19],\n",
    "        'clf' : RandomForestClassifier(max_depth=2, n_estimators=180, criterion='gini')\n",
    "    },\n",
    "    'FBK' : {\n",
    "        'path' : 'data/processed/fbk_processed_data.csv',\n",
    "        'ws' : 2,\n",
    "        'train_weeks' : [45, 50],\n",
    "        'test_weeks' : [51, 51],\n",
    "        # 'clf' : LogisticRegression(max_iter=1500000, random_state=24091993, C=0.046415888336127795)\n",
    "        'clf' : RandomForestClassifier(max_depth=7 , n_estimators=40, random_state=24091993, criterion='gini')\n",
    "    },\n",
    "}"
   ]
  },
  {
   "cell_type": "code",
   "execution_count": 28,
   "metadata": {},
   "outputs": [],
   "source": [
    "## create additional features\n",
    "def create_features(data, window_size=2):\n",
    "    data['date'] = data['date'].astype('datetime64[ns]')\n",
    "    data['weekday'] = data['date'].dt.weekday\n",
    "    \n",
    "    # add a new column with the average value of the last two rows of other column\n",
    "    wl_sum = 0\n",
    "    sp_sum = 0\n",
    "    wl_values = []\n",
    "    sp_values = []\n",
    "    wl_delta = pd.Series(dtype='float64')\n",
    "    sp_delta = pd.Series(dtype='float64')\n",
    "    for i in range(0, window_size):\n",
    "        workload = data.groupby('user')['workload'].shift(i)\n",
    "        sleep = data.groupby('user')['sleep'].shift(i)\n",
    "        wl_sum += workload\n",
    "        wl_values.append(workload)\n",
    "        sp_sum += sleep\n",
    "        sp_values.append(sleep)\n",
    "        wl_delta = workload if wl_delta.empty else wl_delta - workload\n",
    "        sp_delta = sleep if sp_delta.empty else sp_delta - sleep\n",
    "\n",
    "    data['prev_stress'] = data.groupby('user')['stress'].shift(1)\n",
    "\n",
    "    if window_size > 1:\n",
    "        data['wl_avg_{}'.format(window_size)] = wl_sum / window_size\n",
    "        data['sp_avg_{}'.format(window_size)] = sp_sum / window_size\n",
    "        data['wl_std_{}'.format(window_size)] = np.std(wl_values, axis=0)\n",
    "        data['sp_std_{}'.format(window_size)] = np.std(sp_values, axis=0)\n",
    "        data['wl_max_{}'.format(window_size)] = np.max(wl_values, axis=0)\n",
    "        data['sp_max_{}'.format(window_size)] = np.max(sp_values, axis=0)\n",
    "        data['wl_min_{}'.format(window_size)] = np.min(wl_values, axis=0)\n",
    "        data['sp_min_{}'.format(window_size)] = np.min(sp_values, axis=0)\n",
    "        data['wl_delta_{}'.format(window_size)] = wl_delta\n",
    "        data['sp_delta_{}'.format(window_size)] = sp_delta\n",
    "    \n",
    "    return data"
   ]
  },
  {
   "attachments": {},
   "cell_type": "markdown",
   "metadata": {},
   "source": [
    "## Classifier"
   ]
  },
  {
   "cell_type": "code",
   "execution_count": 29,
   "metadata": {},
   "outputs": [
    {
     "name": "stdout",
     "output_type": "stream",
     "text": [
      "Coefficients for StudentLife dataset\n",
      "[0.1054914  0.03424045 0.         0.12940598 0.06854962 0.04397444\n",
      " 0.02836621 0.02705216 0.02864332 0.06474216 0.11510924 0.09050875\n",
      " 0.11341108 0.03748692 0.11301828]\n",
      "\n",
      "Classification report for StudentLife dataset\n",
      "              precision    recall  f1-score   support\n",
      "\n",
      "           1       0.00      0.00      0.00         1\n",
      "           2       0.00      0.00      0.00         3\n",
      "           3       0.76      1.00      0.87        13\n",
      "\n",
      "    accuracy                           0.76        17\n",
      "   macro avg       0.25      0.33      0.29        17\n",
      "weighted avg       0.58      0.76      0.66        17\n",
      "\n",
      "Coefficients for FBK dataset\n",
      "[0.05353687 0.06447979 0.         0.09271016 0.2143729  0.06961086\n",
      " 0.04087265 0.03788733 0.07245498 0.04813534 0.06758436 0.10025428\n",
      " 0.02097051 0.05154295 0.06558701]\n",
      "\n",
      "Classification report for FBK dataset\n",
      "              precision    recall  f1-score   support\n",
      "\n",
      "           2       0.00      0.00      0.00         1\n",
      "           3       0.67      1.00      0.80         2\n",
      "\n",
      "    accuracy                           0.67         3\n",
      "   macro avg       0.33      0.50      0.40         3\n",
      "weighted avg       0.44      0.67      0.53         3\n",
      "\n"
     ]
    },
    {
     "name": "stderr",
     "output_type": "stream",
     "text": [
      "/own/projects/paams23-abm-stress/code/venvabmpaams23/lib/python3.10/site-packages/sklearn/metrics/_classification.py:1344: UndefinedMetricWarning: Precision and F-score are ill-defined and being set to 0.0 in labels with no predicted samples. Use `zero_division` parameter to control this behavior.\n",
      "  _warn_prf(average, modifier, msg_start, len(result))\n",
      "/own/projects/paams23-abm-stress/code/venvabmpaams23/lib/python3.10/site-packages/sklearn/metrics/_classification.py:1344: UndefinedMetricWarning: Precision and F-score are ill-defined and being set to 0.0 in labels with no predicted samples. Use `zero_division` parameter to control this behavior.\n",
      "  _warn_prf(average, modifier, msg_start, len(result))\n",
      "/own/projects/paams23-abm-stress/code/venvabmpaams23/lib/python3.10/site-packages/sklearn/metrics/_classification.py:1344: UndefinedMetricWarning: Precision and F-score are ill-defined and being set to 0.0 in labels with no predicted samples. Use `zero_division` parameter to control this behavior.\n",
      "  _warn_prf(average, modifier, msg_start, len(result))\n",
      "/own/projects/paams23-abm-stress/code/venvabmpaams23/lib/python3.10/site-packages/sklearn/metrics/_classification.py:1344: UndefinedMetricWarning: Precision and F-score are ill-defined and being set to 0.0 in labels with no predicted samples. Use `zero_division` parameter to control this behavior.\n",
      "  _warn_prf(average, modifier, msg_start, len(result))\n",
      "/own/projects/paams23-abm-stress/code/venvabmpaams23/lib/python3.10/site-packages/sklearn/metrics/_classification.py:1344: UndefinedMetricWarning: Precision and F-score are ill-defined and being set to 0.0 in labels with no predicted samples. Use `zero_division` parameter to control this behavior.\n",
      "  _warn_prf(average, modifier, msg_start, len(result))\n",
      "/own/projects/paams23-abm-stress/code/venvabmpaams23/lib/python3.10/site-packages/sklearn/metrics/_classification.py:1344: UndefinedMetricWarning: Precision and F-score are ill-defined and being set to 0.0 in labels with no predicted samples. Use `zero_division` parameter to control this behavior.\n",
      "  _warn_prf(average, modifier, msg_start, len(result))\n"
     ]
    }
   ],
   "source": [
    "\n",
    "for dataset_name, dataset in datasets.items():\n",
    "    np.random.seed(24091993)\n",
    "    data = pd.read_csv(dataset['path'])\n",
    "    ws = dataset['ws']\n",
    "\n",
    "    scaler = StandardScaler()\n",
    "\n",
    "    _data = data.copy()\n",
    "\n",
    "    _data = create_features(_data, window_size=ws)\n",
    "    _data.dropna(how='any', inplace=True)\n",
    "    \n",
    "    _data = _data[_data['prev_stress'] == 3]\n",
    "    \n",
    "    _data['week'] = _data['date'].astype('datetime64[ns]').dt.isocalendar().week\n",
    "    _data['weekday'] = _data['date'].astype('datetime64[ns]').dt.weekday\n",
    "\n",
    "    features = ['sleep','workload','prev_stress', 'weekday', 'duration', 'wl_avg_{}'.format(ws), 'wl_std_{}'.format(ws), 'wl_max_{}'.format(ws), 'wl_min_{}'.format(ws), 'wl_delta_{}'.format(ws), 'sp_avg_{}'.format(ws), 'sp_std_{}'.format(ws), 'sp_max_{}'.format(ws), 'sp_min_{}'.format(ws), 'sp_delta_{}'.format(ws)]\n",
    "\n",
    "    train_all = False\n",
    "    if train_all:\n",
    "        X_train = _data[features]\n",
    "        y_train = _data[variable_to_predict]\n",
    "    else:\n",
    "        X_train = _data[features][(_data['week'] >= dataset['train_weeks'][0]) & (_data['week'] <= dataset['train_weeks'][1])]\n",
    "        y_train = _data[variable_to_predict][(_data['week'] >= dataset['train_weeks'][0]) & (_data['week'] <= dataset['train_weeks'][1])]\n",
    "    \n",
    "    # X_train = _data[['sleep','workload','prev_stress', 'weekday']][(_data['week'] >= dataset['train_weeks'][0]) & (_data['week'] <= dataset['train_weeks'][1])]\n",
    "    # y_train = _data['stress'][(_data['week'] >= dataset['train_weeks'][0]) & (_data['week'] <= dataset['train_weeks'][1])]\n",
    "    \n",
    "    if False and dataset_name == 'StudentLife':\n",
    "        # define undersample strategy\n",
    "        undersample = RandomUnderSampler(sampling_strategy='not minority')\n",
    "        \n",
    "        # fit and apply the transform\n",
    "        X_train, y_train = undersample.fit_resample(X_train, y_train)\n",
    "\n",
    "    X_test = _data[features][(_data['week'] >= dataset['test_weeks'][0]) & (_data['week'] <= dataset['test_weeks'][1])]\n",
    "    # X_test = _data[['sleep','workload','prev_stress', 'weekday']][(_data['week'] >= dataset['test_weeks'][0]) & (_data['week'] <= dataset['test_weeks'][1])]\n",
    "    y_test = _data[variable_to_predict][(_data['week'] >= dataset['test_weeks'][0]) & (_data['week'] <= dataset['test_weeks'][1])]\n",
    "    \n",
    "    # {'min_samples_split': 8, 'min_samples_leaf': 1, 'max_depth': 3}\n",
    "\n",
    "    scale=False\n",
    "    if scale:\n",
    "        X_train = scaler.fit_transform(X_train)\n",
    "        X_test = scaler.transform(X_test)\n",
    "\n",
    "    clf = dataset['clf']\n",
    "    clf.fit(X_train, y_train)\n",
    "    y_pred = clf.predict(X_test)\n",
    "\n",
    "    # print coefficients\n",
    "    if True or dataset_name == 'FBK':\n",
    "        print('Coefficients for {} dataset'.format(dataset_name))\n",
    "        print(clf.feature_importances_)\n",
    "        print('')\n",
    "    else:\n",
    "        print('Coefficients for {} dataset'.format(dataset_name))\n",
    "        print(clf.coef_)\n",
    "        print('')\n",
    "\n",
    "    # confusion matrix\n",
    "    cm = classification_report(y_test, y_pred)\n",
    "    print('Classification report for {} dataset'.format(dataset_name))\n",
    "    print(cm)\n",
    "\n",
    "    # save model\n",
    "    pickle.dump(clf, open('{}_model_trained.pickle'.format(dataset_name), \"wb\"))"
   ]
  },
  {
   "cell_type": "code",
   "execution_count": 30,
   "metadata": {},
   "outputs": [
    {
     "name": "stdout",
     "output_type": "stream",
     "text": [
      "              precision    recall  f1-score   support\n",
      "\n",
      "           1       1.00      1.00      1.00         2\n",
      "           2       1.00      1.00      1.00         7\n",
      "           3       1.00      1.00      1.00        16\n",
      "\n",
      "    accuracy                           1.00        25\n",
      "   macro avg       1.00      1.00      1.00        25\n",
      "weighted avg       1.00      1.00      1.00        25\n",
      "\n"
     ]
    }
   ],
   "source": [
    "print(classification_report(y_train, clf.predict(X_train)))"
   ]
  },
  {
   "cell_type": "code",
   "execution_count": 31,
   "metadata": {},
   "outputs": [
    {
     "name": "stdout",
     "output_type": "stream",
     "text": [
      "              precision    recall  f1-score   support\n",
      "\n",
      "           2       0.00      0.00      0.00         1\n",
      "           3       0.67      1.00      0.80         2\n",
      "\n",
      "    accuracy                           0.67         3\n",
      "   macro avg       0.33      0.50      0.40         3\n",
      "weighted avg       0.44      0.67      0.53         3\n",
      "\n"
     ]
    },
    {
     "name": "stderr",
     "output_type": "stream",
     "text": [
      "/own/projects/paams23-abm-stress/code/venvabmpaams23/lib/python3.10/site-packages/sklearn/metrics/_classification.py:1344: UndefinedMetricWarning: Precision and F-score are ill-defined and being set to 0.0 in labels with no predicted samples. Use `zero_division` parameter to control this behavior.\n",
      "  _warn_prf(average, modifier, msg_start, len(result))\n",
      "/own/projects/paams23-abm-stress/code/venvabmpaams23/lib/python3.10/site-packages/sklearn/metrics/_classification.py:1344: UndefinedMetricWarning: Precision and F-score are ill-defined and being set to 0.0 in labels with no predicted samples. Use `zero_division` parameter to control this behavior.\n",
      "  _warn_prf(average, modifier, msg_start, len(result))\n",
      "/own/projects/paams23-abm-stress/code/venvabmpaams23/lib/python3.10/site-packages/sklearn/metrics/_classification.py:1344: UndefinedMetricWarning: Precision and F-score are ill-defined and being set to 0.0 in labels with no predicted samples. Use `zero_division` parameter to control this behavior.\n",
      "  _warn_prf(average, modifier, msg_start, len(result))\n"
     ]
    }
   ],
   "source": [
    "print(classification_report(y_test, clf.predict(X_test)))"
   ]
  },
  {
   "cell_type": "code",
   "execution_count": null,
   "metadata": {},
   "outputs": [],
   "source": []
  }
 ],
 "metadata": {
  "kernelspec": {
   "display_name": "venvabmpaams23",
   "language": "python",
   "name": "python3"
  },
  "language_info": {
   "codemirror_mode": {
    "name": "ipython",
    "version": 3
   },
   "file_extension": ".py",
   "mimetype": "text/x-python",
   "name": "python",
   "nbconvert_exporter": "python",
   "pygments_lexer": "ipython3",
   "version": "3.10.6"
  },
  "orig_nbformat": 4,
  "vscode": {
   "interpreter": {
    "hash": "b35f28ca8490582ff8f77ff9980f59b5ef0ec07a74ec2efd5c7bfd81cb9aec3a"
   }
  }
 },
 "nbformat": 4,
 "nbformat_minor": 2
}
