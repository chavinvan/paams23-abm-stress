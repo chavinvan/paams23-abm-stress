{
 "cells": [
  {
   "cell_type": "code",
   "execution_count": 7,
   "metadata": {},
   "outputs": [],
   "source": [
    "import pandas as pd\n",
    "import numpy as np\n",
    "from sklearn.tree import DecisionTreeClassifier\n",
    "from sklearn.linear_model import LogisticRegression\n",
    "from sklearn.metrics import classification_report, f1_score\n",
    "from sklearn.preprocessing import StandardScaler\n",
    "from imblearn.under_sampling import RandomUnderSampler\n",
    "import seaborn as sns"
   ]
  },
  {
   "attachments": {},
   "cell_type": "markdown",
   "metadata": {},
   "source": [
    "## Configuration"
   ]
  },
  {
   "cell_type": "code",
   "execution_count": 2,
   "metadata": {},
   "outputs": [],
   "source": [
    "datasets = {\n",
    "    'StudentLife' : {\n",
    "        'path' : 'data/processed/sl_processed_data.csv',\n",
    "        'features' : ['sleep','workload','weekday','prev_stress'],\n",
    "        'ws' : 1,\n",
    "        'train_weeks' : [13, 18],\n",
    "        'test_weeks' : [19, 19],\n",
    "        'clf' : LogisticRegression(max_iter=1500000, random_state=24091993, C= 2.1544346900318843)\n",
    "    },\n",
    "    'FBK' : {\n",
    "        'path' : 'data/processed/fbk_processed_data.csv',\n",
    "        'features' : ['sleep','workload','weekday','prev_stress'],\n",
    "        'ws' : 1,\n",
    "        'train_weeks' : [45, 50],\n",
    "        'test_weeks' : [51, 51],\n",
    "        'clf' : DecisionTreeClassifier(max_depth=3, min_samples_leaf=1, min_samples_split=8)\n",
    "    },\n",
    "}"
   ]
  },
  {
   "cell_type": "code",
   "execution_count": 3,
   "metadata": {},
   "outputs": [],
   "source": [
    "## create additional features\n",
    "def create_features(data, window_size=2):\n",
    "    data['date'] = data['date'].astype('datetime64[ns]')\n",
    "    data['weekday'] = data['date'].dt.weekday\n",
    "    \n",
    "    # add a new column with the average value of the last two rows of other column\n",
    "    wl_sum = 0\n",
    "    sp_sum = 0\n",
    "    wl_values = []\n",
    "    sp_values = []\n",
    "    wl_delta = pd.Series(dtype='float64')\n",
    "    sp_delta = pd.Series(dtype='float64')\n",
    "    for i in range(0, window_size):\n",
    "        workload = data.groupby('user')['workload'].shift(i)\n",
    "        sleep = data.groupby('user')['sleep'].shift(i)\n",
    "        wl_sum += workload\n",
    "        wl_values.append(workload)\n",
    "        sp_sum += sleep\n",
    "        sp_values.append(sleep)\n",
    "        wl_delta = workload if wl_delta.empty else wl_delta - workload\n",
    "        sp_delta = sleep if sp_delta.empty else sp_delta - sleep\n",
    "\n",
    "    data['prev_stress'] = data.groupby('user')['stress'].shift(1)\n",
    "\n",
    "    if window_size > 1:\n",
    "        data['wl_avg_{}'.format(window_size)] = wl_sum / window_size\n",
    "        data['sp_avg_{}'.format(window_size)] = sp_sum / window_size\n",
    "        data['wl_std_{}'.format(window_size)] = np.std(wl_values, axis=0)\n",
    "        data['sp_std_{}'.format(window_size)] = np.std(sp_values, axis=0)\n",
    "        data['wl_max_{}'.format(window_size)] = np.max(wl_values, axis=0)\n",
    "        data['sp_max_{}'.format(window_size)] = np.max(sp_values, axis=0)\n",
    "        data['wl_min_{}'.format(window_size)] = np.min(wl_values, axis=0)\n",
    "        data['sp_min_{}'.format(window_size)] = np.min(sp_values, axis=0)\n",
    "        data['wl_delta_{}'.format(window_size)] = wl_delta\n",
    "        data['sp_delta_{}'.format(window_size)] = sp_delta\n",
    "    \n",
    "    return data"
   ]
  },
  {
   "attachments": {},
   "cell_type": "markdown",
   "metadata": {},
   "source": [
    "## Classifier"
   ]
  },
  {
   "cell_type": "code",
   "execution_count": 11,
   "metadata": {},
   "outputs": [
    {
     "name": "stdout",
     "output_type": "stream",
     "text": [
      "Average F1 score for StudentLife dataset: 0.6130952380952381\n",
      "Average F1 score for FBK dataset: 0.5978937728937729\n"
     ]
    },
    {
     "name": "stderr",
     "output_type": "stream",
     "text": [
      "/own/projects/paams23-abm-stress/code/venvabmpaams23/lib/python3.10/site-packages/sklearn/metrics/_classification.py:1344: UndefinedMetricWarning: Precision and F-score are ill-defined and being set to 0.0 in labels with no predicted samples. Use `zero_division` parameter to control this behavior.\n",
      "  _warn_prf(average, modifier, msg_start, len(result))\n",
      "/own/projects/paams23-abm-stress/code/venvabmpaams23/lib/python3.10/site-packages/sklearn/metrics/_classification.py:1344: UndefinedMetricWarning: Precision and F-score are ill-defined and being set to 0.0 in labels with no predicted samples. Use `zero_division` parameter to control this behavior.\n",
      "  _warn_prf(average, modifier, msg_start, len(result))\n",
      "/own/projects/paams23-abm-stress/code/venvabmpaams23/lib/python3.10/site-packages/sklearn/metrics/_classification.py:1344: UndefinedMetricWarning: Precision and F-score are ill-defined and being set to 0.0 in labels with no predicted samples. Use `zero_division` parameter to control this behavior.\n",
      "  _warn_prf(average, modifier, msg_start, len(result))\n",
      "/own/projects/paams23-abm-stress/code/venvabmpaams23/lib/python3.10/site-packages/sklearn/metrics/_classification.py:1344: UndefinedMetricWarning: Precision and F-score are ill-defined and being set to 0.0 in labels with no predicted samples. Use `zero_division` parameter to control this behavior.\n",
      "  _warn_prf(average, modifier, msg_start, len(result))\n",
      "/own/projects/paams23-abm-stress/code/venvabmpaams23/lib/python3.10/site-packages/sklearn/metrics/_classification.py:1344: UndefinedMetricWarning: Precision and F-score are ill-defined and being set to 0.0 in labels with no predicted samples. Use `zero_division` parameter to control this behavior.\n",
      "  _warn_prf(average, modifier, msg_start, len(result))\n",
      "/own/projects/paams23-abm-stress/code/venvabmpaams23/lib/python3.10/site-packages/sklearn/metrics/_classification.py:1344: UndefinedMetricWarning: Precision and F-score are ill-defined and being set to 0.0 in labels with no predicted samples. Use `zero_division` parameter to control this behavior.\n",
      "  _warn_prf(average, modifier, msg_start, len(result))\n",
      "/own/projects/paams23-abm-stress/code/venvabmpaams23/lib/python3.10/site-packages/sklearn/metrics/_classification.py:1344: UndefinedMetricWarning: Precision and F-score are ill-defined and being set to 0.0 in labels with no predicted samples. Use `zero_division` parameter to control this behavior.\n",
      "  _warn_prf(average, modifier, msg_start, len(result))\n",
      "/own/projects/paams23-abm-stress/code/venvabmpaams23/lib/python3.10/site-packages/sklearn/metrics/_classification.py:1344: UndefinedMetricWarning: Precision and F-score are ill-defined and being set to 0.0 in labels with no predicted samples. Use `zero_division` parameter to control this behavior.\n",
      "  _warn_prf(average, modifier, msg_start, len(result))\n",
      "/own/projects/paams23-abm-stress/code/venvabmpaams23/lib/python3.10/site-packages/sklearn/metrics/_classification.py:1344: UndefinedMetricWarning: Precision and F-score are ill-defined and being set to 0.0 in labels with no predicted samples. Use `zero_division` parameter to control this behavior.\n",
      "  _warn_prf(average, modifier, msg_start, len(result))\n",
      "/own/projects/paams23-abm-stress/code/venvabmpaams23/lib/python3.10/site-packages/sklearn/metrics/_classification.py:1344: UndefinedMetricWarning: Precision and F-score are ill-defined and being set to 0.0 in labels with no predicted samples. Use `zero_division` parameter to control this behavior.\n",
      "  _warn_prf(average, modifier, msg_start, len(result))\n",
      "/own/projects/paams23-abm-stress/code/venvabmpaams23/lib/python3.10/site-packages/sklearn/metrics/_classification.py:1344: UndefinedMetricWarning: Precision and F-score are ill-defined and being set to 0.0 in labels with no predicted samples. Use `zero_division` parameter to control this behavior.\n",
      "  _warn_prf(average, modifier, msg_start, len(result))\n",
      "/own/projects/paams23-abm-stress/code/venvabmpaams23/lib/python3.10/site-packages/sklearn/metrics/_classification.py:1344: UndefinedMetricWarning: Precision and F-score are ill-defined and being set to 0.0 in labels with no predicted samples. Use `zero_division` parameter to control this behavior.\n",
      "  _warn_prf(average, modifier, msg_start, len(result))\n",
      "/own/projects/paams23-abm-stress/code/venvabmpaams23/lib/python3.10/site-packages/sklearn/metrics/_classification.py:1344: UndefinedMetricWarning: Recall and F-score are ill-defined and being set to 0.0 in labels with no true samples. Use `zero_division` parameter to control this behavior.\n",
      "  _warn_prf(average, modifier, msg_start, len(result))\n",
      "/own/projects/paams23-abm-stress/code/venvabmpaams23/lib/python3.10/site-packages/sklearn/metrics/_classification.py:1344: UndefinedMetricWarning: Recall and F-score are ill-defined and being set to 0.0 in labels with no true samples. Use `zero_division` parameter to control this behavior.\n",
      "  _warn_prf(average, modifier, msg_start, len(result))\n",
      "/own/projects/paams23-abm-stress/code/venvabmpaams23/lib/python3.10/site-packages/sklearn/metrics/_classification.py:1344: UndefinedMetricWarning: Recall and F-score are ill-defined and being set to 0.0 in labels with no true samples. Use `zero_division` parameter to control this behavior.\n",
      "  _warn_prf(average, modifier, msg_start, len(result))\n",
      "/own/projects/paams23-abm-stress/code/venvabmpaams23/lib/python3.10/site-packages/sklearn/metrics/_classification.py:1344: UndefinedMetricWarning: Precision and F-score are ill-defined and being set to 0.0 in labels with no predicted samples. Use `zero_division` parameter to control this behavior.\n",
      "  _warn_prf(average, modifier, msg_start, len(result))\n",
      "/own/projects/paams23-abm-stress/code/venvabmpaams23/lib/python3.10/site-packages/sklearn/metrics/_classification.py:1344: UndefinedMetricWarning: Precision and F-score are ill-defined and being set to 0.0 in labels with no predicted samples. Use `zero_division` parameter to control this behavior.\n",
      "  _warn_prf(average, modifier, msg_start, len(result))\n",
      "/own/projects/paams23-abm-stress/code/venvabmpaams23/lib/python3.10/site-packages/sklearn/metrics/_classification.py:1344: UndefinedMetricWarning: Precision and F-score are ill-defined and being set to 0.0 in labels with no predicted samples. Use `zero_division` parameter to control this behavior.\n",
      "  _warn_prf(average, modifier, msg_start, len(result))\n"
     ]
    }
   ],
   "source": [
    "\n",
    "for dataset_name, dataset in datasets.items():\n",
    "    data = pd.read_csv(dataset['path'])\n",
    "    ws = dataset['ws']\n",
    "    features = dataset['features']\n",
    "    _data = data.copy()\n",
    "    _data = create_features(_data, window_size=ws)\n",
    "    _data.dropna(how='any', inplace=True)\n",
    "    \n",
    "    _data['week'] = _data['date'].astype('datetime64[ns]').dt.isocalendar().week\n",
    "    scores = []\n",
    "    for user in _data['user'].unique().tolist():\n",
    "        __data = _data.loc[_data['user'] == user].copy()\n",
    "        X_train = __data[features][(__data['week'] >= dataset['train_weeks'][0]) & (__data['week'] <= dataset['train_weeks'][1])]\n",
    "        y_train = __data['stress'][(__data['week'] >= dataset['train_weeks'][0]) & (__data['week'] <= dataset['train_weeks'][1])]\n",
    "        X_test = __data[features][(__data['week'] >= dataset['test_weeks'][0]) & (__data['week'] <= dataset['test_weeks'][1])]\n",
    "        y_test = __data['stress'][(__data['week'] >= dataset['test_weeks'][0]) & (__data['week'] <= dataset['test_weeks'][1])]\n",
    "\n",
    "        scaler = StandardScaler()\n",
    "        X_train = scaler.fit_transform(X_train)\n",
    "        X_test = scaler.transform(X_test)\n",
    "        \n",
    "        # {'min_samples_split': 8, 'min_samples_leaf': 1, 'max_depth': 3}\n",
    "\n",
    "        clf = dataset['clf']\n",
    "        clf.fit(X_train, y_train)\n",
    "        y_pred = clf.predict(X_test)\n",
    "\n",
    "        # fscore\n",
    "        fscore = f1_score(y_test, y_pred, average='weighted')\n",
    "\n",
    "        # confusion matrix\n",
    "        cm = classification_report(y_test, y_pred)\n",
    "        scores.append(fscore)\n",
    "    \n",
    "    print('Average F1 score for {} dataset: {}'.format(dataset_name, np.mean(scores)))"
   ]
  },
  {
   "cell_type": "code",
   "execution_count": 12,
   "metadata": {},
   "outputs": [
    {
     "name": "stdout",
     "output_type": "stream",
     "text": [
      "              precision    recall  f1-score   support\n",
      "\n",
      "           1       0.82      0.96      0.89        28\n",
      "           2       0.88      0.54      0.67        13\n",
      "\n",
      "    accuracy                           0.83        41\n",
      "   macro avg       0.85      0.75      0.78        41\n",
      "weighted avg       0.84      0.83      0.82        41\n",
      "\n"
     ]
    }
   ],
   "source": [
    "print(classification_report(y_train, clf.predict(X_train)))"
   ]
  },
  {
   "cell_type": "code",
   "execution_count": null,
   "metadata": {},
   "outputs": [],
   "source": []
  }
 ],
 "metadata": {
  "kernelspec": {
   "display_name": "venvabmpaams23",
   "language": "python",
   "name": "python3"
  },
  "language_info": {
   "codemirror_mode": {
    "name": "ipython",
    "version": 3
   },
   "file_extension": ".py",
   "mimetype": "text/x-python",
   "name": "python",
   "nbconvert_exporter": "python",
   "pygments_lexer": "ipython3",
   "version": "3.10.6"
  },
  "orig_nbformat": 4,
  "vscode": {
   "interpreter": {
    "hash": "b35f28ca8490582ff8f77ff9980f59b5ef0ec07a74ec2efd5c7bfd81cb9aec3a"
   }
  }
 },
 "nbformat": 4,
 "nbformat_minor": 2
}
