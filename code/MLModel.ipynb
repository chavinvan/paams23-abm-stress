{
 "cells": [
  {
   "cell_type": "code",
   "execution_count": 39,
   "metadata": {},
   "outputs": [],
   "source": [
    "import pandas as pd\n",
    "import numpy as np\n",
    "from sklearn.tree import DecisionTreeClassifier\n",
    "from sklearn.linear_model import LogisticRegression\n",
    "from sklearn.metrics import classification_report\n",
    "from sklearn.preprocessing import StandardScaler\n",
    "from imblearn.under_sampling import RandomUnderSampler, NeighbourhoodCleaningRule\n",
    "import seaborn as sns\n",
    "import pickle\n",
    "from sklearn.ensemble import RandomForestClassifier"
   ]
  },
  {
   "cell_type": "code",
   "execution_count": 40,
   "metadata": {},
   "outputs": [],
   "source": [
    "variable_to_predict = 'stress'"
   ]
  },
  {
   "attachments": {},
   "cell_type": "markdown",
   "metadata": {},
   "source": [
    "## Configuration"
   ]
  },
  {
   "cell_type": "code",
   "execution_count": 49,
   "metadata": {},
   "outputs": [],
   "source": [
    "datasets = {\n",
    "    'StudentLife' : {\n",
    "        'path' : 'data/processed/sl_processed_data.csv',\n",
    "        'ws' : 2,\n",
    "        'train_weeks' : [13, 18],\n",
    "        'test_weeks' : [19, 19],\n",
    "        'clf' : RandomForestClassifier(max_depth=10, n_estimators=80, random_state=24091993, criterion='entropy') # no tocar\n",
    "    },\n",
    "    'FBK' : {\n",
    "        'path' : 'data/processed/fbk_processed_data.csv',\n",
    "        'ws' : 2,\n",
    "        'train_weeks' : [45, 50],\n",
    "        'test_weeks' : [51, 51],\n",
    "        # 'clf' : LogisticRegression(max_iter=1500000, random_state=24091993, C=0.046415888336127795)\n",
    "        'clf' : RandomForestClassifier(max_depth=9, n_estimators=140, random_state=24091993, criterion='gini')\n",
    "    },\n",
    "}"
   ]
  },
  {
   "cell_type": "code",
   "execution_count": 50,
   "metadata": {},
   "outputs": [],
   "source": [
    "## create additional features\n",
    "def create_features(data, window_size=2):\n",
    "    data['date'] = data['date'].astype('datetime64[ns]')\n",
    "    data['weekday'] = data['date'].dt.weekday\n",
    "    \n",
    "    # add a new column with the average value of the last two rows of other column\n",
    "    wl_sum = 0\n",
    "    sp_sum = 0\n",
    "    wl_values = []\n",
    "    sp_values = []\n",
    "    wl_delta = pd.Series(dtype='float64')\n",
    "    sp_delta = pd.Series(dtype='float64')\n",
    "    for i in range(0, window_size):\n",
    "        workload = data.groupby('user')['workload'].shift(i)\n",
    "        sleep = data.groupby('user')['sleep'].shift(i)\n",
    "        wl_sum += workload\n",
    "        wl_values.append(workload)\n",
    "        sp_sum += sleep\n",
    "        sp_values.append(sleep)\n",
    "        wl_delta = workload if wl_delta.empty else wl_delta - workload\n",
    "        sp_delta = sleep if sp_delta.empty else sp_delta - sleep\n",
    "\n",
    "    data['prev_stress'] = data.groupby('user')['stress'].shift(1)\n",
    "\n",
    "    if window_size > 1:\n",
    "        data['wl_avg_{}'.format(window_size)] = wl_sum / window_size\n",
    "        data['sp_avg_{}'.format(window_size)] = sp_sum / window_size\n",
    "        data['wl_std_{}'.format(window_size)] = np.std(wl_values, axis=0)\n",
    "        data['sp_std_{}'.format(window_size)] = np.std(sp_values, axis=0)\n",
    "        data['wl_max_{}'.format(window_size)] = np.max(wl_values, axis=0)\n",
    "        data['sp_max_{}'.format(window_size)] = np.max(sp_values, axis=0)\n",
    "        data['wl_min_{}'.format(window_size)] = np.min(wl_values, axis=0)\n",
    "        data['sp_min_{}'.format(window_size)] = np.min(sp_values, axis=0)\n",
    "        data['wl_delta_{}'.format(window_size)] = wl_delta\n",
    "        data['sp_delta_{}'.format(window_size)] = sp_delta\n",
    "    \n",
    "    return data"
   ]
  },
  {
   "attachments": {},
   "cell_type": "markdown",
   "metadata": {},
   "source": [
    "## Classifier"
   ]
  },
  {
   "cell_type": "code",
   "execution_count": 51,
   "metadata": {},
   "outputs": [
    {
     "name": "stdout",
     "output_type": "stream",
     "text": [
      "Coefficients for StudentLife dataset\n",
      "[0.02749085 0.02266432 0.49493701 0.11398498 0.09214629 0.02962568\n",
      " 0.01710214 0.02276477 0.0216628  0.0240162  0.03283002 0.02359133\n",
      " 0.02191695 0.02420806 0.03105859]\n",
      "\n",
      "Classification report for StudentLife dataset\n",
      "              precision    recall  f1-score   support\n",
      "\n",
      "           1       0.88      0.76      0.82        50\n",
      "           2       0.88      0.92      0.90       148\n",
      "           3       0.87      0.87      0.87        68\n",
      "\n",
      "    accuracy                           0.88       266\n",
      "   macro avg       0.88      0.85      0.86       266\n",
      "weighted avg       0.88      0.88      0.87       266\n",
      "\n",
      "Coefficients for FBK dataset\n",
      "[0.0502371  0.05975045 0.23954748 0.15791923 0.11633755 0.0536789\n",
      " 0.02564742 0.03383004 0.03076849 0.05472889 0.05015318 0.03001484\n",
      " 0.02891562 0.03456028 0.03391052]\n",
      "\n",
      "Classification report for FBK dataset\n",
      "              precision    recall  f1-score   support\n",
      "\n",
      "           1       0.76      0.81      0.78        31\n",
      "           2       0.33      0.33      0.33        12\n",
      "           3       0.50      0.33      0.40         6\n",
      "\n",
      "    accuracy                           0.63        49\n",
      "   macro avg       0.53      0.49      0.50        49\n",
      "weighted avg       0.62      0.63      0.62        49\n",
      "\n"
     ]
    }
   ],
   "source": [
    "\n",
    "for dataset_name, dataset in datasets.items():\n",
    "    np.random.seed(24091993)\n",
    "    data = pd.read_csv(dataset['path'])\n",
    "    ws = dataset['ws']\n",
    "    _data = data.copy()\n",
    "    _data = create_features(_data, window_size=ws)\n",
    "    _data.dropna(how='any', inplace=True)\n",
    "    \n",
    "    _data['week'] = _data['date'].astype('datetime64[ns]').dt.isocalendar().week\n",
    "    _data['weekday'] = _data['date'].astype('datetime64[ns]').dt.weekday\n",
    "\n",
    "    features = ['sleep','workload','prev_stress', 'weekday', 'duration', 'wl_avg_{}'.format(ws), 'wl_std_{}'.format(ws), 'wl_max_{}'.format(ws), 'wl_min_{}'.format(ws), 'wl_delta_{}'.format(ws), 'sp_avg_{}'.format(ws), 'sp_std_{}'.format(ws), 'sp_max_{}'.format(ws), 'sp_min_{}'.format(ws), 'sp_delta_{}'.format(ws)]\n",
    "\n",
    "    train_all = False\n",
    "    if train_all:\n",
    "        X_train = _data[features]\n",
    "        y_train = _data[variable_to_predict]\n",
    "    else:\n",
    "        X_train = _data[features][(_data['week'] >= dataset['train_weeks'][0]) & (_data['week'] <= dataset['train_weeks'][1])]\n",
    "        y_train = _data[variable_to_predict][(_data['week'] >= dataset['train_weeks'][0]) & (_data['week'] <= dataset['train_weeks'][1])]\n",
    "    \n",
    "    # X_train = _data[['sleep','workload','prev_stress', 'weekday']][(_data['week'] >= dataset['train_weeks'][0]) & (_data['week'] <= dataset['train_weeks'][1])]\n",
    "    # y_train = _data['stress'][(_data['week'] >= dataset['train_weeks'][0]) & (_data['week'] <= dataset['train_weeks'][1])]\n",
    "    \n",
    "\n",
    "    if False and dataset_name == 'StudentLife':\n",
    "        # define undersample strategy\n",
    "        undersample = NeighbourhoodCleaningRule(sampling_strategy='not minority')\n",
    "        \n",
    "        # fit and apply the transform\n",
    "        X_train, y_train = undersample.fit_resample(X_train, y_train)\n",
    "\n",
    "    X_test = _data[features][(_data['week'] >= dataset['test_weeks'][0]) & (_data['week'] <= dataset['test_weeks'][1])]\n",
    "    # X_test = _data[['sleep','workload','prev_stress', 'weekday']][(_data['week'] >= dataset['test_weeks'][0]) & (_data['week'] <= dataset['test_weeks'][1])]\n",
    "    y_test = _data[variable_to_predict][(_data['week'] >= dataset['test_weeks'][0]) & (_data['week'] <= dataset['test_weeks'][1])]\n",
    "    \n",
    "    # {'min_samples_split': 8, 'min_samples_leaf': 1, 'max_depth': 3}\n",
    "\n",
    "    clf = dataset['clf']\n",
    "    clf.fit(X_train.values, y_train.values)\n",
    "    y_pred = clf.predict(X_test.values)\n",
    "\n",
    "    # print coefficients\n",
    "    if True or dataset_name == 'FBK':\n",
    "        print('Coefficients for {} dataset'.format(dataset_name))\n",
    "        print(clf.feature_importances_)\n",
    "        print('')\n",
    "    else:\n",
    "        print('Coefficients for {} dataset'.format(dataset_name))\n",
    "        print(clf.coef_)\n",
    "        print('')\n",
    "\n",
    "    # confusion matrix\n",
    "    cm = classification_report(y_test.values, y_pred)\n",
    "    print('Classification report for {} dataset'.format(dataset_name))\n",
    "    print(cm)\n",
    "\n",
    "    # save model\n",
    "    pickle.dump(clf, open('{}_model_trained_2.pickle'.format(dataset_name), \"wb\"))"
   ]
  },
  {
   "cell_type": "code",
   "execution_count": 52,
   "metadata": {},
   "outputs": [
    {
     "name": "stdout",
     "output_type": "stream",
     "text": [
      "              precision    recall  f1-score   support\n",
      "\n",
      "           1       0.93      1.00      0.96       184\n",
      "           2       1.00      0.80      0.89        69\n",
      "           3       1.00      1.00      1.00        34\n",
      "\n",
      "    accuracy                           0.95       287\n",
      "   macro avg       0.98      0.93      0.95       287\n",
      "weighted avg       0.95      0.95      0.95       287\n",
      "\n"
     ]
    }
   ],
   "source": [
    "print(classification_report(y_train, clf.predict(X_train.values)))"
   ]
  },
  {
   "cell_type": "code",
   "execution_count": 53,
   "metadata": {},
   "outputs": [
    {
     "name": "stdout",
     "output_type": "stream",
     "text": [
      "              precision    recall  f1-score   support\n",
      "\n",
      "           1       0.76      0.81      0.78        31\n",
      "           2       0.33      0.33      0.33        12\n",
      "           3       0.50      0.33      0.40         6\n",
      "\n",
      "    accuracy                           0.63        49\n",
      "   macro avg       0.53      0.49      0.50        49\n",
      "weighted avg       0.62      0.63      0.62        49\n",
      "\n"
     ]
    }
   ],
   "source": [
    "print(classification_report(y_test, clf.predict(X_test.values)))"
   ]
  },
  {
   "cell_type": "code",
   "execution_count": null,
   "metadata": {},
   "outputs": [],
   "source": []
  },
  {
   "cell_type": "code",
   "execution_count": 8,
   "metadata": {},
   "outputs": [
    {
     "ename": "KeyError",
     "evalue": "\"None of [Index(['change'], dtype='object')] are in the [columns]\"",
     "output_type": "error",
     "traceback": [
      "\u001b[0;31m---------------------------------------------------------------------------\u001b[0m",
      "\u001b[0;31mKeyError\u001b[0m                                  Traceback (most recent call last)",
      "Cell \u001b[0;32mIn[8], line 1\u001b[0m\n\u001b[0;32m----> 1\u001b[0m _data[[\u001b[39m'\u001b[39;49m\u001b[39mchange\u001b[39;49m\u001b[39m'\u001b[39;49m]]\u001b[39m.\u001b[39mvalue_counts()\n",
      "File \u001b[0;32m/own/projects/paams23-abm-stress/code/venvabmpaams23/lib/python3.10/site-packages/pandas/core/frame.py:3813\u001b[0m, in \u001b[0;36mDataFrame.__getitem__\u001b[0;34m(self, key)\u001b[0m\n\u001b[1;32m   3811\u001b[0m     \u001b[39mif\u001b[39;00m is_iterator(key):\n\u001b[1;32m   3812\u001b[0m         key \u001b[39m=\u001b[39m \u001b[39mlist\u001b[39m(key)\n\u001b[0;32m-> 3813\u001b[0m     indexer \u001b[39m=\u001b[39m \u001b[39mself\u001b[39;49m\u001b[39m.\u001b[39;49mcolumns\u001b[39m.\u001b[39;49m_get_indexer_strict(key, \u001b[39m\"\u001b[39;49m\u001b[39mcolumns\u001b[39;49m\u001b[39m\"\u001b[39;49m)[\u001b[39m1\u001b[39m]\n\u001b[1;32m   3815\u001b[0m \u001b[39m# take() does not accept boolean indexers\u001b[39;00m\n\u001b[1;32m   3816\u001b[0m \u001b[39mif\u001b[39;00m \u001b[39mgetattr\u001b[39m(indexer, \u001b[39m\"\u001b[39m\u001b[39mdtype\u001b[39m\u001b[39m\"\u001b[39m, \u001b[39mNone\u001b[39;00m) \u001b[39m==\u001b[39m \u001b[39mbool\u001b[39m:\n",
      "File \u001b[0;32m/own/projects/paams23-abm-stress/code/venvabmpaams23/lib/python3.10/site-packages/pandas/core/indexes/base.py:6070\u001b[0m, in \u001b[0;36mIndex._get_indexer_strict\u001b[0;34m(self, key, axis_name)\u001b[0m\n\u001b[1;32m   6067\u001b[0m \u001b[39melse\u001b[39;00m:\n\u001b[1;32m   6068\u001b[0m     keyarr, indexer, new_indexer \u001b[39m=\u001b[39m \u001b[39mself\u001b[39m\u001b[39m.\u001b[39m_reindex_non_unique(keyarr)\n\u001b[0;32m-> 6070\u001b[0m \u001b[39mself\u001b[39;49m\u001b[39m.\u001b[39;49m_raise_if_missing(keyarr, indexer, axis_name)\n\u001b[1;32m   6072\u001b[0m keyarr \u001b[39m=\u001b[39m \u001b[39mself\u001b[39m\u001b[39m.\u001b[39mtake(indexer)\n\u001b[1;32m   6073\u001b[0m \u001b[39mif\u001b[39;00m \u001b[39misinstance\u001b[39m(key, Index):\n\u001b[1;32m   6074\u001b[0m     \u001b[39m# GH 42790 - Preserve name from an Index\u001b[39;00m\n",
      "File \u001b[0;32m/own/projects/paams23-abm-stress/code/venvabmpaams23/lib/python3.10/site-packages/pandas/core/indexes/base.py:6130\u001b[0m, in \u001b[0;36mIndex._raise_if_missing\u001b[0;34m(self, key, indexer, axis_name)\u001b[0m\n\u001b[1;32m   6128\u001b[0m     \u001b[39mif\u001b[39;00m use_interval_msg:\n\u001b[1;32m   6129\u001b[0m         key \u001b[39m=\u001b[39m \u001b[39mlist\u001b[39m(key)\n\u001b[0;32m-> 6130\u001b[0m     \u001b[39mraise\u001b[39;00m \u001b[39mKeyError\u001b[39;00m(\u001b[39mf\u001b[39m\u001b[39m\"\u001b[39m\u001b[39mNone of [\u001b[39m\u001b[39m{\u001b[39;00mkey\u001b[39m}\u001b[39;00m\u001b[39m] are in the [\u001b[39m\u001b[39m{\u001b[39;00maxis_name\u001b[39m}\u001b[39;00m\u001b[39m]\u001b[39m\u001b[39m\"\u001b[39m)\n\u001b[1;32m   6132\u001b[0m not_found \u001b[39m=\u001b[39m \u001b[39mlist\u001b[39m(ensure_index(key)[missing_mask\u001b[39m.\u001b[39mnonzero()[\u001b[39m0\u001b[39m]]\u001b[39m.\u001b[39munique())\n\u001b[1;32m   6133\u001b[0m \u001b[39mraise\u001b[39;00m \u001b[39mKeyError\u001b[39;00m(\u001b[39mf\u001b[39m\u001b[39m\"\u001b[39m\u001b[39m{\u001b[39;00mnot_found\u001b[39m}\u001b[39;00m\u001b[39m not in index\u001b[39m\u001b[39m\"\u001b[39m)\n",
      "\u001b[0;31mKeyError\u001b[0m: \"None of [Index(['change'], dtype='object')] are in the [columns]\""
     ]
    }
   ],
   "source": [
    "_data[['change']].value_counts()"
   ]
  },
  {
   "cell_type": "code",
   "execution_count": null,
   "metadata": {},
   "outputs": [],
   "source": []
  }
 ],
 "metadata": {
  "kernelspec": {
   "display_name": "venvabmpaams23",
   "language": "python",
   "name": "python3"
  },
  "language_info": {
   "codemirror_mode": {
    "name": "ipython",
    "version": 3
   },
   "file_extension": ".py",
   "mimetype": "text/x-python",
   "name": "python",
   "nbconvert_exporter": "python",
   "pygments_lexer": "ipython3",
   "version": "3.10.6"
  },
  "orig_nbformat": 4,
  "vscode": {
   "interpreter": {
    "hash": "b35f28ca8490582ff8f77ff9980f59b5ef0ec07a74ec2efd5c7bfd81cb9aec3a"
   }
  }
 },
 "nbformat": 4,
 "nbformat_minor": 2
}
