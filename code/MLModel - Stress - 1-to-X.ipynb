{
 "cells": [
  {
   "cell_type": "code",
   "execution_count": 1,
   "metadata": {},
   "outputs": [],
   "source": [
    "import pandas as pd\n",
    "import numpy as np\n",
    "from sklearn.tree import DecisionTreeClassifier\n",
    "from sklearn.linear_model import LogisticRegression\n",
    "from sklearn.metrics import classification_report\n",
    "from sklearn.preprocessing import StandardScaler\n",
    "from imblearn.under_sampling import RandomUnderSampler, NeighbourhoodCleaningRule\n",
    "import seaborn as sns\n",
    "import pickle\n",
    "from sklearn.ensemble import RandomForestClassifier"
   ]
  },
  {
   "cell_type": "code",
   "execution_count": 2,
   "metadata": {},
   "outputs": [],
   "source": [
    "variable_to_predict = 'stress'"
   ]
  },
  {
   "attachments": {},
   "cell_type": "markdown",
   "metadata": {},
   "source": [
    "## Configuration"
   ]
  },
  {
   "cell_type": "code",
   "execution_count": 33,
   "metadata": {},
   "outputs": [],
   "source": [
    "datasets = {\n",
    "    'StudentLife' : {\n",
    "        'path' : 'data/processed/sl_processed_data.csv',\n",
    "        'ws' : 2,\n",
    "        'train_weeks' : [13, 18],\n",
    "        'test_weeks' : [19, 19],\n",
    "        'clf' : RandomForestClassifier(max_depth=2, n_estimators=180, criterion='gini')\n",
    "    },\n",
    "    'FBK' : {\n",
    "        'path' : 'data/processed/fbk_processed_data.csv',\n",
    "        'ws' : 2,\n",
    "        'train_weeks' : [45, 50],\n",
    "        'test_weeks' : [51, 51],\n",
    "        # 'clf' : LogisticRegression(max_iter=1500000, random_state=24091993, C=0.046415888336127795)\n",
    "        'clf' : RandomForestClassifier(max_depth=7 , n_estimators=40, random_state=24091993, criterion='gini')\n",
    "    },\n",
    "}"
   ]
  },
  {
   "cell_type": "code",
   "execution_count": 34,
   "metadata": {},
   "outputs": [],
   "source": [
    "## create additional features\n",
    "def create_features(data, window_size=2):\n",
    "    data['date'] = data['date'].astype('datetime64[ns]')\n",
    "    data['weekday'] = data['date'].dt.weekday\n",
    "    \n",
    "    # add a new column with the average value of the last two rows of other column\n",
    "    wl_sum = 0\n",
    "    sp_sum = 0\n",
    "    wl_values = []\n",
    "    sp_values = []\n",
    "    wl_delta = pd.Series(dtype='float64')\n",
    "    sp_delta = pd.Series(dtype='float64')\n",
    "    for i in range(0, window_size):\n",
    "        workload = data.groupby('user')['workload'].shift(i)\n",
    "        sleep = data.groupby('user')['sleep'].shift(i)\n",
    "        wl_sum += workload\n",
    "        wl_values.append(workload)\n",
    "        sp_sum += sleep\n",
    "        sp_values.append(sleep)\n",
    "        wl_delta = workload if wl_delta.empty else wl_delta - workload\n",
    "        sp_delta = sleep if sp_delta.empty else sp_delta - sleep\n",
    "\n",
    "    data['prev_stress'] = data.groupby('user')['stress'].shift(1)\n",
    "\n",
    "    if window_size > 1:\n",
    "        data['wl_avg_{}'.format(window_size)] = wl_sum / window_size\n",
    "        data['sp_avg_{}'.format(window_size)] = sp_sum / window_size\n",
    "        data['wl_std_{}'.format(window_size)] = np.std(wl_values, axis=0)\n",
    "        data['sp_std_{}'.format(window_size)] = np.std(sp_values, axis=0)\n",
    "        data['wl_max_{}'.format(window_size)] = np.max(wl_values, axis=0)\n",
    "        data['sp_max_{}'.format(window_size)] = np.max(sp_values, axis=0)\n",
    "        data['wl_min_{}'.format(window_size)] = np.min(wl_values, axis=0)\n",
    "        data['sp_min_{}'.format(window_size)] = np.min(sp_values, axis=0)\n",
    "        data['wl_delta_{}'.format(window_size)] = wl_delta\n",
    "        data['sp_delta_{}'.format(window_size)] = sp_delta\n",
    "    \n",
    "    return data"
   ]
  },
  {
   "attachments": {},
   "cell_type": "markdown",
   "metadata": {},
   "source": [
    "## Classifier"
   ]
  },
  {
   "cell_type": "code",
   "execution_count": 45,
   "metadata": {},
   "outputs": [
    {
     "name": "stdout",
     "output_type": "stream",
     "text": [
      "Coefficients for StudentLife dataset\n",
      "[0.06304225 0.09257126 0.         0.09698217 0.09264077 0.10156944\n",
      " 0.07480018 0.10139883 0.00140741 0.0617757  0.07759905 0.08022283\n",
      " 0.0601129  0.01438156 0.08149565]\n",
      "\n",
      "Classification report for StudentLife dataset\n",
      "              precision    recall  f1-score   support\n",
      "\n",
      "           0       0.67      1.00      0.80         2\n",
      "           1       1.00      0.50      0.67         2\n",
      "\n",
      "    accuracy                           0.75         4\n",
      "   macro avg       0.83      0.75      0.73         4\n",
      "weighted avg       0.83      0.75      0.73         4\n",
      "\n",
      "Coefficients for FBK dataset\n",
      "[0.07281016 0.05812827 0.         0.15962994 0.15089401 0.08621256\n",
      " 0.05214806 0.04686988 0.05614315 0.08245412 0.05797999 0.02582965\n",
      " 0.04702557 0.06477078 0.03910385]\n",
      "\n",
      "Classification report for FBK dataset\n",
      "              precision    recall  f1-score   support\n",
      "\n",
      "           0       0.89      0.85      0.87        20\n",
      "           1       0.25      0.33      0.29         3\n",
      "\n",
      "    accuracy                           0.78        23\n",
      "   macro avg       0.57      0.59      0.58        23\n",
      "weighted avg       0.81      0.78      0.80        23\n",
      "\n"
     ]
    }
   ],
   "source": [
    "\n",
    "for dataset_name, dataset in datasets.items():\n",
    "    np.random.seed(24091993)\n",
    "    data = pd.read_csv(dataset['path'])\n",
    "    ws = dataset['ws']\n",
    "\n",
    "    scaler = StandardScaler()\n",
    "\n",
    "    _data = data.copy()\n",
    "\n",
    "    _data = create_features(_data, window_size=ws)\n",
    "    _data.dropna(how='any', inplace=True)\n",
    "    \n",
    "    _data = _data[_data['prev_stress'] == 1]\n",
    "    \n",
    "    _data['week'] = _data['date'].astype('datetime64[ns]').dt.isocalendar().week\n",
    "    _data['weekday'] = _data['date'].astype('datetime64[ns]').dt.weekday\n",
    "\n",
    "    features = ['sleep','workload','prev_stress', 'weekday', 'duration', 'wl_avg_{}'.format(ws), 'wl_std_{}'.format(ws), 'wl_max_{}'.format(ws), 'wl_min_{}'.format(ws), 'wl_delta_{}'.format(ws), 'sp_avg_{}'.format(ws), 'sp_std_{}'.format(ws), 'sp_max_{}'.format(ws), 'sp_min_{}'.format(ws), 'sp_delta_{}'.format(ws)]\n",
    "\n",
    "    train_all = False\n",
    "    if train_all:\n",
    "        X_train = _data[features]\n",
    "        y_train = _data[variable_to_predict]\n",
    "    else:\n",
    "        X_train = _data[features][(_data['week'] >= dataset['train_weeks'][0]) & (_data['week'] <= dataset['train_weeks'][1])]\n",
    "        y_train = _data[variable_to_predict][(_data['week'] >= dataset['train_weeks'][0]) & (_data['week'] <= dataset['train_weeks'][1])]\n",
    "    \n",
    "    # X_train = _data[['sleep','workload','prev_stress', 'weekday']][(_data['week'] >= dataset['train_weeks'][0]) & (_data['week'] <= dataset['train_weeks'][1])]\n",
    "    # y_train = _data['stress'][(_data['week'] >= dataset['train_weeks'][0]) & (_data['week'] <= dataset['train_weeks'][1])]\n",
    "    \n",
    "    if False and dataset_name == 'StudentLife':\n",
    "        # define undersample strategy\n",
    "        undersample = RandomUnderSampler(sampling_strategy='not minority')\n",
    "        \n",
    "        # fit and apply the transform\n",
    "        X_train, y_train = undersample.fit_resample(X_train, y_train)\n",
    "\n",
    "    X_test = _data[features][(_data['week'] >= dataset['test_weeks'][0]) & (_data['week'] <= dataset['test_weeks'][1])]\n",
    "    # X_test = _data[['sleep','workload','prev_stress', 'weekday']][(_data['week'] >= dataset['test_weeks'][0]) & (_data['week'] <= dataset['test_weeks'][1])]\n",
    "    y_test = _data[variable_to_predict][(_data['week'] >= dataset['test_weeks'][0]) & (_data['week'] <= dataset['test_weeks'][1])]\n",
    "    \n",
    "    # {'min_samples_split': 8, 'min_samples_leaf': 1, 'max_depth': 3}\n",
    "\n",
    "    scale=False\n",
    "    if scale:\n",
    "        X_train = scaler.fit_transform(X_train)\n",
    "        X_test = scaler.transform(X_test)\n",
    "\n",
    "    clf = dataset['clf']\n",
    "    clf.fit(X_train, y_train)\n",
    "    y_pred = clf.predict(X_test)\n",
    "\n",
    "    # print coefficients\n",
    "    if True or dataset_name == 'FBK':\n",
    "        print('Coefficients for {} dataset'.format(dataset_name))\n",
    "        print(clf.feature_importances_)\n",
    "        print('')\n",
    "    else:\n",
    "        print('Coefficients for {} dataset'.format(dataset_name))\n",
    "        print(clf.coef_)\n",
    "        print('')\n",
    "\n",
    "    # confusion matrix\n",
    "    cm = classification_report(y_test, y_pred)\n",
    "    print('Classification report for {} dataset'.format(dataset_name))\n",
    "    print(cm)\n",
    "\n",
    "    # save model\n",
    "    pickle.dump(clf, open('{}_model_trained.pickle'.format(dataset_name), \"wb\"))"
   ]
  },
  {
   "cell_type": "code",
   "execution_count": 46,
   "metadata": {},
   "outputs": [
    {
     "name": "stdout",
     "output_type": "stream",
     "text": [
      "              precision    recall  f1-score   support\n",
      "\n",
      "           0       0.89      1.00      0.94       124\n",
      "           1       1.00      0.56      0.72        34\n",
      "\n",
      "    accuracy                           0.91       158\n",
      "   macro avg       0.95      0.78      0.83       158\n",
      "weighted avg       0.92      0.91      0.89       158\n",
      "\n"
     ]
    }
   ],
   "source": [
    "print(classification_report(y_train, clf.predict(X_train)))"
   ]
  },
  {
   "cell_type": "code",
   "execution_count": 47,
   "metadata": {},
   "outputs": [
    {
     "name": "stdout",
     "output_type": "stream",
     "text": [
      "              precision    recall  f1-score   support\n",
      "\n",
      "           0       0.89      0.85      0.87        20\n",
      "           1       0.25      0.33      0.29         3\n",
      "\n",
      "    accuracy                           0.78        23\n",
      "   macro avg       0.57      0.59      0.58        23\n",
      "weighted avg       0.81      0.78      0.80        23\n",
      "\n"
     ]
    }
   ],
   "source": [
    "print(classification_report(y_test, clf.predict(X_test)))"
   ]
  },
  {
   "cell_type": "code",
   "execution_count": null,
   "metadata": {},
   "outputs": [],
   "source": []
  }
 ],
 "metadata": {
  "kernelspec": {
   "display_name": "venvabmpaams23",
   "language": "python",
   "name": "python3"
  },
  "language_info": {
   "codemirror_mode": {
    "name": "ipython",
    "version": 3
   },
   "file_extension": ".py",
   "mimetype": "text/x-python",
   "name": "python",
   "nbconvert_exporter": "python",
   "pygments_lexer": "ipython3",
   "version": "3.10.6"
  },
  "orig_nbformat": 4,
  "vscode": {
   "interpreter": {
    "hash": "b35f28ca8490582ff8f77ff9980f59b5ef0ec07a74ec2efd5c7bfd81cb9aec3a"
   }
  }
 },
 "nbformat": 4,
 "nbformat_minor": 2
}
